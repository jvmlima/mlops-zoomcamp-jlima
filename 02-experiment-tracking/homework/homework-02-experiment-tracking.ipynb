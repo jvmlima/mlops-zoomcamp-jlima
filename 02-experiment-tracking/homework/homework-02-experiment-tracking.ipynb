{
 "cells": [
  {
   "attachments": {},
   "cell_type": "markdown",
   "id": "99bb56ca",
   "metadata": {},
   "source": [
    "## Homework\n",
    "\n",
    "The goal of this homework is to get familiar with tools like MLflow for experiment tracking and \n",
    "model management.\n"
   ]
  },
  {
   "attachments": {},
   "cell_type": "markdown",
   "id": "ca4c8e86",
   "metadata": {},
   "source": [
    "\n",
    "\n",
    "## Q1. Install the package\n",
    "\n",
    "To get started with MLflow you'll need to install the appropriate Python package.\n",
    "\n",
    "For this we recommend creating a separate Python environment, for example, you can use [conda environments](https://docs.conda.io/projects/conda/en/latest/user-guide/getting-started.html#managing-envs), \n",
    "and then install the package there with `pip` or `conda`.\n",
    "\n",
    "Once you installed the package, run the command `mlflow --version` and check the output.\n",
    "\n",
    "What's the version that you have?\n"
   ]
  },
  {
   "cell_type": "code",
   "execution_count": 1,
   "id": "b21afd82",
   "metadata": {},
   "outputs": [
    {
     "name": "stdout",
     "output_type": "stream",
     "text": [
      "mlflow, version 2.3.2\n"
     ]
    }
   ],
   "source": [
    "!mlflow --version"
   ]
  },
  {
   "attachments": {},
   "cell_type": "markdown",
   "id": "6f66d7c2",
   "metadata": {},
   "source": [
    "## Q2. Download and preprocess the data\n",
    "\n",
    "We'll use the Green Taxi Trip Records dataset to predict the amount of tips for each trip. \n",
    "\n",
    "Download the data for January, February and March 2022 in parquet format from [here](https://www1.nyc.gov/site/tlc/about/tlc-trip-record-data.page).\n",
    "\n",
    "Use the script `preprocess_data.py` located in the folder [`homework`](homework) to preprocess the data.\n",
    "\n",
    "The script will:\n",
    "\n",
    "* load the data from the folder `<TAXI_DATA_FOLDER>` (the folder where you have downloaded the data),\n",
    "* fit a `DictVectorizer` on the training set (January 2022 data),\n",
    "* save the preprocessed datasets and the `DictVectorizer` to disk.\n",
    "\n",
    "Your task is to download the datasets and then execute this command:\n",
    "\n",
    "```\n",
    "python preprocess_data.py --raw_data_path <TAXI_DATA_FOLDER> --dest_path ./output\n",
    "```\n",
    "\n",
    "Tip: go to `02-experiment-tracking/homework/` folder before executing the command and change the value of `<TAXI_DATA_FOLDER>` to the location where you saved the data.\n",
    "\n",
    "So what's the size of the saved `DictVectorizer` file?\n",
    "\n",
    "* 54 kB\n",
    "* 154 kB\n",
    "* 54 MB\n",
    "* 154 MB\n"
   ]
  },
  {
   "cell_type": "code",
   "execution_count": 2,
   "id": "5baa20a2",
   "metadata": {},
   "outputs": [
    {
     "name": "stderr",
     "output_type": "stream",
     "text": [
      "--2023-05-26 11:49:04--  https://d37ci6vzurychx.cloudfront.net/trip-data/green_tripdata_2022-01.parquet\n",
      "Resolving d37ci6vzurychx.cloudfront.net (d37ci6vzurychx.cloudfront.net)... 2600:9000:200c:6200:b:20a5:b140:21, 2600:9000:200c:8c00:b:20a5:b140:21, 2600:9000:200c:1e00:b:20a5:b140:21, ...\n",
      "Connecting to d37ci6vzurychx.cloudfront.net (d37ci6vzurychx.cloudfront.net)|2600:9000:200c:6200:b:20a5:b140:21|:443... connected.\n",
      "HTTP request sent, awaiting response... 200 OK\n",
      "Length: 1254291 (1,2M) [binary/octet-stream]\n",
      "Saving to: './data/green_tripdata_2022-01.parquet'\n",
      "\n",
      "     0K .......... .......... .......... .......... ..........  4%  300K 4s\n",
      "    50K .......... .......... .......... .......... ..........  8%  534K 3s\n",
      "   100K .......... .......... .......... .......... .......... 12% 1,07M 2s\n",
      "   150K .......... .......... .......... .......... .......... 16%  692K 2s\n",
      "   200K .......... .......... .......... .......... .......... 20% 2,25M 2s\n",
      "   250K .......... .......... .......... .......... .......... 24%  765K 1s\n",
      "   300K .......... .......... .......... .......... .......... 28% 1,50M 1s\n",
      "   350K .......... .......... .......... .......... .......... 32% 93,2K 2s\n",
      "   400K .......... .......... .......... .......... .......... 36%  244K 2s\n",
      "   450K .......... .......... .......... .......... .......... 40%  121M 2s\n",
      "   500K .......... .......... .......... .......... .......... 44% 88,0M 2s\n",
      "   550K .......... .......... .......... .......... .......... 48%  170M 1s\n",
      "   600K .......... .......... .......... .......... .......... 53%  142M 1s\n",
      "   650K .......... .......... .......... .......... .......... 57%  160M 1s\n",
      "   700K .......... .......... .......... .......... .......... 61% 96,7M 1s\n",
      "   750K .......... .......... .......... .......... .......... 65% 44,8M 1s\n",
      "   800K .......... .......... .......... .......... .......... 69% 62,8M 1s\n",
      "   850K .......... .......... .......... .......... .......... 73%  162M 0s\n",
      "   900K .......... .......... .......... .......... .......... 77% 10,5M 0s\n",
      "   950K .......... .......... .......... .......... .......... 81%  135M 0s\n",
      "  1000K .......... .......... .......... .......... .......... 85%  104M 0s\n",
      "  1050K .......... .......... .......... .......... .......... 89%  111M 0s\n",
      "  1100K .......... .......... .......... .......... .......... 93%  122M 0s\n",
      "  1150K .......... .......... .......... .......... .......... 97%  182M 0s\n",
      "  1200K .......... .......... ....                            100%  170M=1,3s\n",
      "\n",
      "2023-05-26 11:49:07 (979 KB/s) - './data/green_tripdata_2022-01.parquet' saved [1254291/1254291]\n",
      "\n",
      "--2023-05-26 11:49:07--  https://d37ci6vzurychx.cloudfront.net/trip-data/green_tripdata_2022-02.parquet\n",
      "Resolving d37ci6vzurychx.cloudfront.net (d37ci6vzurychx.cloudfront.net)... 2600:9000:200c:6200:b:20a5:b140:21, 2600:9000:200c:8c00:b:20a5:b140:21, 2600:9000:200c:1e00:b:20a5:b140:21, ...\n",
      "Connecting to d37ci6vzurychx.cloudfront.net (d37ci6vzurychx.cloudfront.net)|2600:9000:200c:6200:b:20a5:b140:21|:443... connected.\n",
      "HTTP request sent, awaiting response... 200 OK\n",
      "Length: 1428262 (1,4M) [binary/octet-stream]\n",
      "Saving to: './data/green_tripdata_2022-02.parquet'\n",
      "\n",
      "     0K .......... .......... .......... .......... ..........  3%  376K 4s\n",
      "    50K .......... .......... .......... .......... ..........  7%  460K 3s\n",
      "   100K .......... .......... .......... .......... .......... 10%  823K 3s\n",
      "   150K .......... .......... .......... .......... .......... 14%  784K 2s\n",
      "   200K .......... .......... .......... .......... .......... 17% 1,41M 2s\n",
      "   250K .......... .......... .......... .......... .......... 21% 1,77M 2s\n",
      "   300K .......... .......... .......... .......... .......... 25% 1,58M 1s\n",
      "   350K .......... .......... .......... .......... .......... 28% 2,03M 1s\n",
      "   400K .......... .......... .......... .......... .......... 32% 1,73M 1s\n",
      "   450K .......... .......... .......... .......... .......... 35% 2,82M 1s\n",
      "   500K .......... .......... .......... .......... .......... 39% 3,46M 1s\n",
      "   550K .......... .......... .......... .......... .......... 43% 3,18M 1s\n",
      "   600K .......... .......... .......... .......... .......... 46% 3,11M 1s\n",
      "   650K .......... .......... .......... .......... .......... 50% 3,44M 1s\n",
      "   700K .......... .......... .......... .......... .......... 53% 4,05M 1s\n",
      "   750K .......... .......... .......... .......... .......... 57% 3,77M 0s\n",
      "   800K .......... .......... .......... .......... .......... 60% 3,22M 0s\n",
      "   850K .......... .......... .......... .......... .......... 64% 3,76M 0s\n",
      "   900K .......... .......... .......... .......... .......... 68% 4,89M 0s\n",
      "   950K .......... .......... .......... .......... .......... 71% 5,06M 0s\n",
      "  1000K .......... .......... .......... .......... .......... 75% 4,90M 0s\n",
      "  1050K .......... .......... .......... .......... .......... 78% 5,40M 0s\n",
      "  1100K .......... .......... .......... .......... .......... 82% 5,18M 0s\n",
      "  1150K .......... .......... .......... .......... .......... 86% 2,99M 0s\n",
      "  1200K .......... .......... .......... .......... .......... 89% 9,07M 0s\n",
      "  1250K .......... .......... .......... .......... .......... 93% 5,62M 0s\n",
      "  1300K .......... .......... .......... .......... .......... 96% 4,45M 0s\n",
      "  1350K .......... .......... .......... .......... ....      100% 8,24M=0,7s\n",
      "\n",
      "2023-05-26 11:49:08 (1,85 MB/s) - './data/green_tripdata_2022-02.parquet' saved [1428262/1428262]\n",
      "\n",
      "--2023-05-26 11:49:08--  https://d37ci6vzurychx.cloudfront.net/trip-data/green_tripdata_2022-03.parquet\n",
      "Resolving d37ci6vzurychx.cloudfront.net (d37ci6vzurychx.cloudfront.net)... 2600:9000:200c:6200:b:20a5:b140:21, 2600:9000:200c:8c00:b:20a5:b140:21, 2600:9000:200c:1e00:b:20a5:b140:21, ...\n",
      "Connecting to d37ci6vzurychx.cloudfront.net (d37ci6vzurychx.cloudfront.net)|2600:9000:200c:6200:b:20a5:b140:21|:443... connected.\n",
      "HTTP request sent, awaiting response... 200 OK\n",
      "Length: 1615562 (1,5M) [binary/octet-stream]\n",
      "Saving to: './data/green_tripdata_2022-03.parquet'\n",
      "\n",
      "     0K .......... .......... .......... .......... ..........  3%  345K 4s\n",
      "    50K .......... .......... .......... .......... ..........  6%  516K 4s\n",
      "   100K .......... .......... .......... .......... ..........  9% 1,08M 3s\n",
      "   150K .......... .......... .......... .......... .......... 12%  794K 2s\n",
      "   200K .......... .......... .......... .......... .......... 15% 1,33M 2s\n",
      "   250K .......... .......... .......... .......... .......... 19% 1,88M 2s\n",
      "   300K .......... .......... .......... .......... .......... 22% 1,40M 2s\n",
      "   350K .......... .......... .......... .......... .......... 25% 2,36M 1s\n",
      "   400K .......... .......... .......... .......... .......... 28% 1,73M 1s\n",
      "   450K .......... .......... .......... .......... .......... 31% 3,17M 1s\n",
      "   500K .......... .......... .......... .......... .......... 34% 3,25M 1s\n",
      "   550K .......... .......... .......... .......... .......... 38% 3,01M 1s\n",
      "   600K .......... .......... .......... .......... .......... 41% 3,51M 1s\n",
      "   650K .......... .......... .......... .......... .......... 44% 3,91M 1s\n",
      "   700K .......... .......... .......... .......... .......... 47% 3,43M 1s\n",
      "   750K .......... .......... .......... .......... .......... 50% 4,79M 1s\n",
      "   800K .......... .......... .......... .......... .......... 53% 2,36M 1s\n",
      "   850K .......... .......... .......... .......... .......... 57% 8,62M 0s\n",
      "   900K .......... .......... .......... .......... .......... 60% 4,07M 0s\n",
      "   950K .......... .......... .......... .......... .......... 63% 7,36M 0s\n",
      "  1000K .......... .......... .......... .......... .......... 66% 4,64M 0s\n",
      "  1050K .......... .......... .......... .......... .......... 69% 5,69M 0s\n",
      "  1100K .......... .......... .......... .......... .......... 72% 4,77M 0s\n",
      "  1150K .......... .......... .......... .......... .......... 76% 2,52M 0s\n",
      "  1200K .......... .......... .......... .......... .......... 79% 10,4M 0s\n",
      "  1250K .......... .......... .......... .......... .......... 82% 6,57M 0s\n",
      "  1300K .......... .......... .......... .......... .......... 85% 7,31M 0s\n",
      "  1350K .......... .......... .......... .......... .......... 88% 5,83M 0s\n",
      "  1400K .......... .......... .......... .......... .......... 91% 4,12M 0s\n",
      "  1450K .......... .......... .......... .......... .......... 95% 7,37M 0s\n",
      "  1500K .......... .......... .......... .......... .......... 98% 9,18M 0s\n",
      "  1550K .......... .......... .......                         100% 5,94M=0,7s\n",
      "\n",
      "2023-05-26 11:49:10 (2,07 MB/s) - './data/green_tripdata_2022-03.parquet' saved [1615562/1615562]\n",
      "\n"
     ]
    }
   ],
   "source": [
    "! wget https://d37ci6vzurychx.cloudfront.net/trip-data/green_tripdata_2022-01.parquet -P ./data/\n",
    "! wget https://d37ci6vzurychx.cloudfront.net/trip-data/green_tripdata_2022-02.parquet -P ./data/\n",
    "! wget https://d37ci6vzurychx.cloudfront.net/trip-data/green_tripdata_2022-03.parquet -P ./data/"
   ]
  },
  {
   "cell_type": "code",
   "execution_count": 6,
   "id": "2e22e8d7",
   "metadata": {},
   "outputs": [],
   "source": [
    "!python ./preprocess_data.py --raw_data_path ./data --dest_path ./output"
   ]
  },
  {
   "cell_type": "code",
   "execution_count": 12,
   "id": "408b898c",
   "metadata": {},
   "outputs": [
    {
     "name": "stdout",
     "output_type": "stream",
     "text": [
      "DictVectorizer size: 150.0 kB\n"
     ]
    }
   ],
   "source": [
    "import os\n",
    "print(f'DictVectorizer size: {round(os.path.getsize(\"./output/dv.pkl\")/1024,0)} kB')"
   ]
  },
  {
   "attachments": {},
   "cell_type": "markdown",
   "id": "74fd1db7",
   "metadata": {},
   "source": [
    "\n",
    "\n",
    "## Q3. Train a model with autolog\n",
    "\n",
    "We will train a `RandomForestRegressor` (from Scikit-Learn) on the taxi dataset.\n",
    "\n",
    "We have prepared the training script `train.py` for this exercise, which can be also found in the folder `homework`. \n",
    "\n",
    "The script will:\n",
    "\n",
    "* load the datasets produced by the previous step,\n",
    "* train the model on the training set,\n",
    "* calculate the RMSE score on the validation set.\n",
    "\n",
    "Your task is to modify the script to enable **autologging** with MLflow, execute the script and then launch the MLflow UI to check that the experiment run was properly tracked. \n",
    "\n",
    "Tip 1: don't forget to wrap the training code with a `with mlflow.start_run():` statement as we showed in the videos.\n",
    "\n",
    "Tip 2: don't modify the hyperparameters of the model to make sure that the training will finish quickly.\n",
    "\n",
    "What is the value of the `max_depth` parameter:\n",
    "\n",
    "* 4\n",
    "* 6\n",
    "* 8\n",
    "* 10\n"
   ]
  },
  {
   "cell_type": "code",
   "execution_count": 14,
   "id": "e95a68d0",
   "metadata": {},
   "outputs": [],
   "source": [
    "!python ./train.py"
   ]
  },
  {
   "cell_type": "code",
   "execution_count": 17,
   "id": "1e0bf07d",
   "metadata": {},
   "outputs": [
    {
     "name": "stdout",
     "output_type": "stream",
     "text": [
      "max_depth: 10\n"
     ]
    }
   ],
   "source": [
    "print('max_depth: 10')"
   ]
  },
  {
   "attachments": {},
   "cell_type": "markdown",
   "id": "909d34f8",
   "metadata": {},
   "source": [
    "\n",
    "\n",
    "## Launch the tracking server locally for MLflow\n",
    "\n",
    "Now we want to manage the entire lifecycle of our ML model. In this step, you'll need to launch a tracking server. This way we will also have access to the model registry. \n",
    "\n",
    "In case of MLflow, you need to:\n",
    "\n",
    "* launch the tracking server on your local machine,\n",
    "* select a SQLite db for the backend store and a folder called `artifacts` for the artifacts store.\n",
    "\n",
    "You should keep the tracking server running to work on the next three exercises that use the server.\n"
   ]
  },
  {
   "attachments": {},
   "cell_type": "markdown",
   "id": "3cb3d207",
   "metadata": {},
   "source": [
    "## Q4. Tune model hyperparameters\n",
    "\n",
    "Now let's try to reduce the validation error by tuning the hyperparameters of the `RandomForestRegressor` using `optuna`. \n",
    "We have prepared the script `hpo.py` for this exercise. \n",
    "\n",
    "Your task is to modify the script `hpo.py` and make sure that the validation RMSE is logged to the tracking server for each run of the hyperparameter optimization (you will need to add a few lines of code to the `objective` function) and run the script without passing any parameters.\n",
    "\n",
    "After that, open UI and explore the runs from the experiment called `random-forest-hyperopt` to answer the question below.\n",
    "\n",
    "Note: Don't use autologging for this exercise.\n",
    "\n",
    "The idea is to just log the information that you need to answer the question below, including:\n",
    "\n",
    "* the list of hyperparameters that are passed to the `objective` function during the optimization,\n",
    "* the RMSE obtained on the validation set (February 2022 data).\n",
    "\n",
    "What's the best validation RMSE that you got?\n",
    "\n",
    "* 1.85\n",
    "* 2.15\n",
    "* 2.45\n",
    "* 2.85\n"
   ]
  },
  {
   "cell_type": "code",
   "execution_count": 18,
   "id": "43352475",
   "metadata": {},
   "outputs": [
    {
     "name": "stdout",
     "output_type": "stream",
     "text": [
      "Collecting optuna\n",
      "  Downloading optuna-3.1.1-py3-none-any.whl (365 kB)\n",
      "     -------------------------------------- 365.7/365.7 kB 5.7 MB/s eta 0:00:00\n",
      "Requirement already satisfied: alembic>=1.5.0 in c:\\users\\joaov\\appdata\\local\\programs\\python\\python39\\lib\\site-packages (from optuna) (1.8.1)\n",
      "Collecting cmaes>=0.9.1 (from optuna)\n",
      "  Downloading cmaes-0.9.1-py3-none-any.whl (21 kB)\n",
      "Requirement already satisfied: colorlog in c:\\users\\joaov\\appdata\\local\\programs\\python\\python39\\lib\\site-packages (from optuna) (4.8.0)\n",
      "Requirement already satisfied: numpy in c:\\users\\joaov\\appdata\\local\\programs\\python\\python39\\lib\\site-packages (from optuna) (1.23.3)\n",
      "Requirement already satisfied: packaging>=20.0 in c:\\users\\joaov\\appdata\\local\\programs\\python\\python39\\lib\\site-packages (from optuna) (21.3)\n",
      "Requirement already satisfied: sqlalchemy>=1.3.0 in c:\\users\\joaov\\appdata\\local\\programs\\python\\python39\\lib\\site-packages (from optuna) (1.4.41)\n",
      "Requirement already satisfied: tqdm in c:\\users\\joaov\\appdata\\local\\programs\\python\\python39\\lib\\site-packages (from optuna) (4.65.0)\n",
      "Requirement already satisfied: PyYAML in c:\\users\\joaov\\appdata\\local\\programs\\python\\python39\\lib\\site-packages (from optuna) (6.0)\n",
      "Requirement already satisfied: Mako in c:\\users\\joaov\\appdata\\local\\programs\\python\\python39\\lib\\site-packages (from alembic>=1.5.0->optuna) (1.2.4)\n",
      "Requirement already satisfied: pyparsing!=3.0.5,>=2.0.2 in c:\\users\\joaov\\appdata\\local\\programs\\python\\python39\\lib\\site-packages (from packaging>=20.0->optuna) (3.0.9)\n",
      "Requirement already satisfied: greenlet!=0.4.17 in c:\\users\\joaov\\appdata\\local\\programs\\python\\python39\\lib\\site-packages (from sqlalchemy>=1.3.0->optuna) (2.0.1)\n",
      "Requirement already satisfied: colorama in c:\\users\\joaov\\appdata\\local\\programs\\python\\python39\\lib\\site-packages (from colorlog->optuna) (0.4.5)\n",
      "Requirement already satisfied: MarkupSafe>=0.9.2 in c:\\users\\joaov\\appdata\\local\\programs\\python\\python39\\lib\\site-packages (from Mako->alembic>=1.5.0->optuna) (2.1.1)\n",
      "Installing collected packages: cmaes, optuna\n",
      "Successfully installed cmaes-0.9.1 optuna-3.1.1\n"
     ]
    }
   ],
   "source": [
    "!pip install optuna"
   ]
  },
  {
   "cell_type": "code",
   "execution_count": 19,
   "id": "048feef7",
   "metadata": {},
   "outputs": [
    {
     "name": "stderr",
     "output_type": "stream",
     "text": [
      "2023/05/26 12:27:20 INFO mlflow.tracking.fluent: Experiment with name 'random-forest-hyperopt' does not exist. Creating a new experiment.\n",
      "\u001b[32m[I 2023-05-26 12:27:20,941]\u001b[0m A new study created in memory with name: no-name-3b51589b-c67a-4fa4-b11a-256316986f35\u001b[0m\n",
      "\u001b[32m[I 2023-05-26 12:27:24,019]\u001b[0m Trial 0 finished with value: 2.451379690825458 and parameters: {'n_estimators': 25, 'max_depth': 20, 'min_samples_split': 8, 'min_samples_leaf': 3}. Best is trial 0 with value: 2.451379690825458.\u001b[0m\n",
      "\u001b[32m[I 2023-05-26 12:27:24,385]\u001b[0m Trial 1 finished with value: 2.4667366020368333 and parameters: {'n_estimators': 16, 'max_depth': 4, 'min_samples_split': 2, 'min_samples_leaf': 4}. Best is trial 0 with value: 2.451379690825458.\u001b[0m\n",
      "\u001b[32m[I 2023-05-26 12:27:26,919]\u001b[0m Trial 2 finished with value: 2.449827329704216 and parameters: {'n_estimators': 34, 'max_depth': 15, 'min_samples_split': 2, 'min_samples_leaf': 4}. Best is trial 2 with value: 2.449827329704216.\u001b[0m\n",
      "\u001b[32m[I 2023-05-26 12:27:27,901]\u001b[0m Trial 3 finished with value: 2.460983516558473 and parameters: {'n_estimators': 44, 'max_depth': 5, 'min_samples_split': 3, 'min_samples_leaf': 1}. Best is trial 2 with value: 2.449827329704216.\u001b[0m\n",
      "\u001b[32m[I 2023-05-26 12:27:29,281]\u001b[0m Trial 4 finished with value: 2.453877262701052 and parameters: {'n_estimators': 22, 'max_depth': 11, 'min_samples_split': 5, 'min_samples_leaf': 2}. Best is trial 2 with value: 2.449827329704216.\u001b[0m\n",
      "\u001b[32m[I 2023-05-26 12:27:29,925]\u001b[0m Trial 5 finished with value: 2.4720122094960733 and parameters: {'n_estimators': 35, 'max_depth': 3, 'min_samples_split': 4, 'min_samples_leaf': 2}. Best is trial 2 with value: 2.449827329704216.\u001b[0m\n",
      "\u001b[32m[I 2023-05-26 12:27:33,011]\u001b[0m Trial 6 finished with value: 2.4516421799356767 and parameters: {'n_estimators': 28, 'max_depth': 16, 'min_samples_split': 3, 'min_samples_leaf': 3}. Best is trial 2 with value: 2.449827329704216.\u001b[0m\n",
      "\u001b[32m[I 2023-05-26 12:27:33,342]\u001b[0m Trial 7 finished with value: 2.5374040268274087 and parameters: {'n_estimators': 34, 'max_depth': 1, 'min_samples_split': 7, 'min_samples_leaf': 1}. Best is trial 2 with value: 2.449827329704216.\u001b[0m\n",
      "\u001b[32m[I 2023-05-26 12:27:34,800]\u001b[0m Trial 8 finished with value: 2.455971238567075 and parameters: {'n_estimators': 12, 'max_depth': 19, 'min_samples_split': 10, 'min_samples_leaf': 4}. Best is trial 2 with value: 2.449827329704216.\u001b[0m\n",
      "\u001b[32m[I 2023-05-26 12:27:35,111]\u001b[0m Trial 9 finished with value: 2.486106021576535 and parameters: {'n_estimators': 22, 'max_depth': 2, 'min_samples_split': 8, 'min_samples_leaf': 2}. Best is trial 2 with value: 2.449827329704216.\u001b[0m\n"
     ]
    }
   ],
   "source": [
    "!python ./hpo.py"
   ]
  },
  {
   "cell_type": "code",
   "execution_count": 38,
   "id": "27e46f04",
   "metadata": {},
   "outputs": [
    {
     "name": "stdout",
     "output_type": "stream",
     "text": [
      "random-forest-hyperopt\n",
      "homework-02-experiment-tracking\n",
      "Default\n"
     ]
    }
   ],
   "source": [
    "import mlflow\n",
    "from mlflow.entities import ViewType\n",
    "\n",
    "mlflow.set_tracking_uri(\"http://127.0.0.1:5000\")\n",
    "mlflow.set_experiment(\"random-forest-hyperopt\")\n",
    "\n",
    "experiments = mlflow.search_experiments(view_type=ViewType.ALL)\n",
    "for exp in experiments:\n",
    "    print(exp.name)"
   ]
  },
  {
   "cell_type": "code",
   "execution_count": 74,
   "id": "aa414a84",
   "metadata": {},
   "outputs": [
    {
     "name": "stdout",
     "output_type": "stream",
     "text": [
      "best validation rmse: 2.45\n"
     ]
    }
   ],
   "source": [
    "import mlflow \n",
    "client = mlflow.tracking.MlflowClient()\n",
    "runs = client.search_runs(experiment_ids = \"2\", order_by=[\"metrics.rmse ASC\"])\n",
    "best_run = runs[0]\n",
    "print(f'best validation rmse: {round(best_run.data.metrics.get(\"rmse\"),2)}')"
   ]
  },
  {
   "attachments": {},
   "cell_type": "markdown",
   "id": "83e2ef33",
   "metadata": {},
   "source": [
    "## Q5. Promote the best model to the model registry\n",
    "\n",
    "The results from the hyperparameter optimization are quite good. So, we can assume that we are ready to test some of these models in production. \n",
    "In this exercise, you'll promote the best model to the model registry. We have prepared a script called `register_model.py`, which will check the results from the previous step and select the top 5 runs. \n",
    "After that, it will calculate the RMSE of those models on the test set (March 2022 data) and save the results to a new experiment called `random-forest-best-models`.\n",
    "\n",
    "Your task is to update the script `register_model.py` so that it selects the model with the lowest RMSE on the test set and registers it to the model registry.\n",
    "\n",
    "Tips for MLflow:\n",
    "\n",
    "* you can use the method `search_runs` from the `MlflowClient` to get the model with the lowest RMSE,\n",
    "* to register the model you can use the method `mlflow.register_model` and you will need to pass the right `model_uri` in the form of a string that looks like this: `\"runs:/<RUN_ID>/model\"`, and the name of the model (make sure to choose a good one!).\n",
    "\n",
    "What is the test RMSE of the best model?\n",
    "\n",
    "* 1.885\n",
    "* 2.185\n",
    "* 2.555\n",
    "* 2.955\n"
   ]
  },
  {
   "cell_type": "code",
   "execution_count": 65,
   "id": "13509beb",
   "metadata": {},
   "outputs": [
    {
     "name": "stderr",
     "output_type": "stream",
     "text": [
      "Registered model 'best_model' already exists. Creating a new version of this model...\n",
      "2023/05/26 14:12:16 INFO mlflow.tracking._model_registry.client: Waiting up to 300 seconds for model version to finish creation. Model name: best_model, version 1\n",
      "Created version '1' of model 'best_model'.\n"
     ]
    }
   ],
   "source": [
    "!python register_model.py"
   ]
  },
  {
   "cell_type": "code",
   "execution_count": 73,
   "id": "525382ba",
   "metadata": {},
   "outputs": [
    {
     "name": "stdout",
     "output_type": "stream",
     "text": [
      "test RMSE of the best model: 2.285\n"
     ]
    }
   ],
   "source": [
    "EXPERIMENT_NAME = \"random-forest-best-models\"\n",
    "\n",
    "mlflow.set_tracking_uri(\"http://127.0.0.1:5000\")\n",
    "mlflow.set_experiment(EXPERIMENT_NAME)\n",
    "\n",
    "experiment = client.get_experiment_by_name(EXPERIMENT_NAME)\n",
    "best_run = client.search_runs(experiment.experiment_id, order_by=[\"metrics.test_rmse ASC\"])[0]\n",
    "print(f'test RMSE of the best model: {round(best_run.data.metrics.get(\"test_rmse\"),3)}')\n"
   ]
  },
  {
   "attachments": {},
   "cell_type": "markdown",
   "id": "09c1f189",
   "metadata": {},
   "source": [
    "## Q6. Model metadata\n",
    "\n",
    "Now explore your best model in the model registry using UI. What information does the model registry contain about each model?\n",
    "\n",
    "* Version number\n",
    "* Source experiment\n",
    "* Model signature\n",
    "* All the above answers are correct\n"
   ]
  },
  {
   "attachments": {},
   "cell_type": "markdown",
   "id": "7839096c",
   "metadata": {},
   "source": [
    "answer:\n",
    "- version number\n",
    "- source run\n",
    "- model signature"
   ]
  },
  {
   "attachments": {},
   "cell_type": "markdown",
   "id": "0890627e",
   "metadata": {},
   "source": [
    "\n",
    "\n",
    "## Submit the results\n",
    "\n",
    "* Submit your results here: https://forms.gle/Fy1pvrPEKd4yjz3s6\n",
    "* You can submit your solution multiple times. In this case, only the last submission will be used\n",
    "* If your answer doesn't match options exactly, select the closest one\n",
    "\n",
    "\n",
    "## Deadline\n",
    "\n",
    "The deadline for submitting is 1 June 2023 (Thursday), 23:00 CEST (Berlin time). \n",
    "\n",
    "After that, the form will be closed.\n"
   ]
  }
 ],
 "metadata": {
  "interpreter": {
   "hash": "0848c9d6c7d415ad6c477ff7ff8e98694d1a4aa96d0deee89244642e6b630036"
  },
  "kernelspec": {
   "display_name": "Python 3 (ipykernel)",
   "language": "python",
   "name": "python3"
  },
  "language_info": {
   "codemirror_mode": {
    "name": "ipython",
    "version": 3
   },
   "file_extension": ".py",
   "mimetype": "text/x-python",
   "name": "python",
   "nbconvert_exporter": "python",
   "pygments_lexer": "ipython3",
   "version": "3.9.13"
  }
 },
 "nbformat": 4,
 "nbformat_minor": 5
}
